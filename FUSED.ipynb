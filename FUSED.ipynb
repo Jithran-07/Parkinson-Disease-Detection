{
  "nbformat": 4,
  "nbformat_minor": 0,
  "metadata": {
    "colab": {
      "provenance": []
    },
    "kernelspec": {
      "name": "python3",
      "display_name": "Python 3"
    },
    "language_info": {
      "name": "python"
    }
  },
  "cells": [
    {
      "cell_type": "markdown",
      "source": [
        "## **Import the Libaries**"
      ],
      "metadata": {
        "id": "aP99cHyKYDZO"
      }
    },
    {
      "cell_type": "code",
      "execution_count": 8,
      "metadata": {
        "id": "-z4in6nICiCz"
      },
      "outputs": [],
      "source": [
        "import seaborn as sns\n",
        "\n",
        "import tensorflow as tf\n",
        "from tensorflow import keras\n",
        "from tensorflow.keras import layers\n",
        "from tensorflow.keras.preprocessing.image import ImageDataGenerator\n",
        "from tensorflow.keras.callbacks import EarlyStopping\n",
        "from sklearn.metrics import confusion_matrix\n",
        "import tensorflow_hub as hub\n",
        "\n",
        "import os\n",
        "import random\n",
        "import shutil\n",
        "from math import ceil, sqrt\n",
        "import matplotlib.pyplot as plt"
      ]
    },
    {
      "cell_type": "markdown",
      "source": [
        "## **Meander**"
      ],
      "metadata": {
        "id": "pa6teKSAZCE4"
      }
    },
    {
      "cell_type": "code",
      "source": [
        "os.listdir('/content/drive/MyDrive/Dataset/Meander/Train')"
      ],
      "metadata": {
        "colab": {
          "base_uri": "https://localhost:8080/"
        },
        "id": "BOrLWxgDZBOu",
        "outputId": "e53d06f9-3e08-42cf-8842-e72d65a86e18"
      },
      "execution_count": 9,
      "outputs": [
        {
          "output_type": "execute_result",
          "data": {
            "text/plain": [
              "['Patient', 'Healthy']"
            ]
          },
          "metadata": {},
          "execution_count": 9
        }
      ]
    },
    {
      "cell_type": "code",
      "source": [
        "os.listdir('/content/drive/MyDrive/Dataset/Meander/Test')"
      ],
      "metadata": {
        "colab": {
          "base_uri": "https://localhost:8080/"
        },
        "id": "0lwoG4nRYcTH",
        "outputId": "72a1be00-9390-4daa-9b12-b6db521f57ab"
      },
      "execution_count": 10,
      "outputs": [
        {
          "output_type": "execute_result",
          "data": {
            "text/plain": [
              "['Healthy', 'Patient']"
            ]
          },
          "metadata": {},
          "execution_count": 10
        }
      ]
    },
    {
      "cell_type": "code",
      "source": [
        "TRAIN_DIR='/content/drive/MyDrive/Dataset/Meander/Train'"
      ],
      "metadata": {
        "id": "FuwzgH0QZOW7"
      },
      "execution_count": 11,
      "outputs": []
    },
    {
      "cell_type": "code",
      "source": [
        "train_dir='/content/drive/MyDrive/Dataset/Meander/Train'\n",
        "test_dir='/content/drive/MyDrive/Dataset/Meander/Test'"
      ],
      "metadata": {
        "id": "MEvL9mwuZQWn"
      },
      "execution_count": 12,
      "outputs": []
    },
    {
      "cell_type": "code",
      "source": [
        "# Create the training and validation directories if they don't exist\n",
        "train_dir = 'train'\n",
        "valid_dir = 'val'\n",
        "os.makedirs(train_dir, exist_ok=True)\n",
        "os.makedirs(valid_dir, exist_ok=True)\n",
        "\n",
        "for subdir in os.listdir(TRAIN_DIR):\n",
        "    subdir_path = os.path.join(TRAIN_DIR, subdir)\n",
        "\n",
        "    # Create corresponding subdirectories in train and val directories\n",
        "    train_subdir = os.path.join(train_dir, subdir)\n",
        "    valid_subdir = os.path.join(valid_dir, subdir)\n",
        "\n",
        "    os.makedirs(train_subdir, exist_ok=True)\n",
        "    os.makedirs(valid_subdir, exist_ok=True)\n",
        "\n",
        "    all_images = os.listdir(subdir_path)\n",
        "\n",
        "    num_validation = int(len(all_images) * 0.2)\n",
        "    validation_images = random.sample(all_images, num_validation)\n",
        "\n",
        "    for img in all_images:\n",
        "        source_path = os.path.join(subdir_path, img)\n",
        "        dest_dir = valid_subdir if img in validation_images else train_subdir\n",
        "        dest_path = os.path.join(dest_dir, img)\n",
        "        shutil.copy(source_path, dest_path)"
      ],
      "metadata": {
        "id": "32cZVr-5ZVWa"
      },
      "execution_count": 13,
      "outputs": []
    },
    {
      "cell_type": "code",
      "source": [
        "train_datagen = ImageDataGenerator(\n",
        "    rescale=1.0/255.0,      # Rescale pixel values to [0, 1]\n",
        "    rotation_range=25,      # Randomly rotate images by up to 25 degrees\n",
        "    width_shift_range=0.3,  # Randomly shift the width of images\n",
        "    height_shift_range=0.3, # Randomly shift the height of images\n",
        "    horizontal_flip=True,   # Randomly flip images horizontally\n",
        "    shear_range=0.3,        # Apply shear transformations\n",
        "    zoom_range=0.4,         # Randomly zoom into images\n",
        "    fill_mode='nearest'     # Fill empty pixels with the nearest value\n",
        ")\n",
        "\n",
        "test_datagen = ImageDataGenerator(rescale = 1.0 / 255)\n",
        "# Create data generators for training and validation data\n",
        "batch_size = 32\n",
        "image_size = (150, 150)\n",
        "\n",
        "train_generator = train_datagen.flow_from_directory(\n",
        "    '/content/train',\n",
        "    target_size=image_size,\n",
        "    batch_size=batch_size,\n",
        "    class_mode='binary'\n",
        ")\n",
        "\n",
        "val_generator = test_datagen.flow_from_directory(\n",
        "    '/content/val',\n",
        "    target_size=image_size,\n",
        "    batch_size=batch_size,\n",
        "    class_mode='binary'\n",
        ")\n",
        "\n",
        "\n"
      ],
      "metadata": {
        "colab": {
          "base_uri": "https://localhost:8080/"
        },
        "id": "IsKD86POZYDX",
        "outputId": "90db1af4-7ae4-4249-b387-3d41b7abc134"
      },
      "execution_count": 14,
      "outputs": [
        {
          "output_type": "stream",
          "name": "stdout",
          "text": [
            "Found 245 images belonging to 2 classes.\n",
            "Found 60 images belonging to 2 classes.\n"
          ]
        }
      ]
    },
    {
      "cell_type": "code",
      "source": [
        "efficient_net = hub.KerasLayer(\"https://www.kaggle.com/models/google/efficientnet-v2/frameworks/TensorFlow2/variations/imagenet21k-b3-feature-vector/versions/1\",trainable=False)"
      ],
      "metadata": {
        "id": "Kievh6LyZbJH"
      },
      "execution_count": 15,
      "outputs": []
    },
    {
      "cell_type": "code",
      "source": [
        "\n",
        "model_meander = keras.Sequential([\n",
        "    efficient_net,\n",
        "    keras.layers.Flatten(),  # Add a Flatten layer to reshape the output\n",
        "    keras.layers.Dense(512, activation='relu'),\n",
        "    keras.layers.BatchNormalization(),\n",
        "    keras.layers.Dropout(0.5),\n",
        "    keras.layers.Dense(256, activation='relu'),\n",
        "    keras.layers.BatchNormalization(),\n",
        "    keras.layers.Dropout(0.3),\n",
        "    keras.layers.Dense(128, activation='relu'),\n",
        "    keras.layers.BatchNormalization(),\n",
        "    keras.layers.Dropout(0.3),\n",
        "    keras.layers.Dense(6, activation='softmax'),\n",
        "    keras.layers.Dense(1, activation='sigmoid'),\n",
        "])\n",
        "\n",
        "model_meander.build((None, image_size[0], image_size[1], 3))\n",
        "\n",
        "lr_schedule = keras.optimizers.schedules.ExponentialDecay(5e-4, decay_steps=10000, decay_rate=0.9)\n",
        "model_meander.compile(optimizer=keras.optimizers.Adam(learning_rate=lr_schedule),\n",
        "              loss='binary_crossentropy',\n",
        "              metrics=['accuracy'])\n",
        "\n",
        "early_stopping = keras.callbacks.EarlyStopping( monitor='val_accuracy',patience=5,restore_best_weights=True)\n",
        "model_meander.save(\"image_model.h5\")\n"
      ],
      "metadata": {
        "colab": {
          "base_uri": "https://localhost:8080/"
        },
        "id": "6YPprSETZda7",
        "outputId": "9895bd2b-9096-4090-d7f7-2fae9ce59468"
      },
      "execution_count": 16,
      "outputs": [
        {
          "output_type": "stream",
          "name": "stderr",
          "text": [
            "/usr/local/lib/python3.10/dist-packages/keras/src/engine/training.py:3103: UserWarning: You are saving your model as an HDF5 file via `model.save()`. This file format is considered legacy. We recommend using instead the native Keras format, e.g. `model.save('my_model.keras')`.\n",
            "  saving_api.save_model(\n"
          ]
        }
      ]
    },
    {
      "cell_type": "code",
      "source": [
        "history = model_meander.fit(train_generator, epochs=100, validation_data=val_generator)\n",
        "\n",
        "\n",
        "# Save the model\n",
        "model_meander.save(\"meander_model.h5\")\n",
        "\n",
        "# Optionally, save the training history as well\n",
        "import pickle\n",
        "\n",
        "with open('training_history.pkl', 'wb') as file:\n",
        "    pickle.dump(history.history, file)\n"
      ],
      "metadata": {
        "colab": {
          "base_uri": "https://localhost:8080/"
        },
        "id": "KfbbDSQCZpP4",
        "outputId": "2ddf6e4d-dc4c-40d8-88bb-adbebc67b54b"
      },
      "execution_count": 17,
      "outputs": [
        {
          "output_type": "stream",
          "name": "stdout",
          "text": [
            "Epoch 1/100\n",
            "8/8 [==============================] - 32s 2s/step - loss: 0.6429 - accuracy: 0.6449 - val_loss: 0.6560 - val_accuracy: 0.7167\n",
            "Epoch 2/100\n",
            "8/8 [==============================] - 15s 2s/step - loss: 0.6036 - accuracy: 0.7306 - val_loss: 0.6314 - val_accuracy: 0.7000\n",
            "Epoch 3/100\n",
            "8/8 [==============================] - 17s 2s/step - loss: 0.5953 - accuracy: 0.7388 - val_loss: 0.6190 - val_accuracy: 0.7000\n",
            "Epoch 4/100\n",
            "8/8 [==============================] - 17s 2s/step - loss: 0.5728 - accuracy: 0.7592 - val_loss: 0.6074 - val_accuracy: 0.7333\n",
            "Epoch 5/100\n",
            "8/8 [==============================] - 15s 2s/step - loss: 0.5607 - accuracy: 0.8245 - val_loss: 0.6043 - val_accuracy: 0.7667\n",
            "Epoch 6/100\n",
            "8/8 [==============================] - 15s 2s/step - loss: 0.5537 - accuracy: 0.7959 - val_loss: 0.5975 - val_accuracy: 0.7333\n",
            "Epoch 7/100\n",
            "8/8 [==============================] - 17s 2s/step - loss: 0.5559 - accuracy: 0.7837 - val_loss: 0.5596 - val_accuracy: 0.8500\n",
            "Epoch 8/100\n",
            "8/8 [==============================] - 15s 2s/step - loss: 0.5483 - accuracy: 0.8000 - val_loss: 0.5294 - val_accuracy: 0.8500\n",
            "Epoch 9/100\n",
            "8/8 [==============================] - 15s 2s/step - loss: 0.5397 - accuracy: 0.8408 - val_loss: 0.5299 - val_accuracy: 0.8500\n",
            "Epoch 10/100\n",
            "8/8 [==============================] - 14s 2s/step - loss: 0.5439 - accuracy: 0.7796 - val_loss: 0.5262 - val_accuracy: 0.8333\n",
            "Epoch 11/100\n",
            "8/8 [==============================] - 15s 2s/step - loss: 0.5359 - accuracy: 0.8082 - val_loss: 0.5185 - val_accuracy: 0.8500\n",
            "Epoch 12/100\n",
            "8/8 [==============================] - 14s 2s/step - loss: 0.5296 - accuracy: 0.8204 - val_loss: 0.5224 - val_accuracy: 0.8333\n",
            "Epoch 13/100\n",
            "8/8 [==============================] - 15s 2s/step - loss: 0.5147 - accuracy: 0.8408 - val_loss: 0.5062 - val_accuracy: 0.8500\n",
            "Epoch 14/100\n",
            "8/8 [==============================] - 15s 2s/step - loss: 0.5263 - accuracy: 0.8367 - val_loss: 0.4946 - val_accuracy: 0.8667\n",
            "Epoch 15/100\n",
            "8/8 [==============================] - 14s 2s/step - loss: 0.5178 - accuracy: 0.8408 - val_loss: 0.4859 - val_accuracy: 0.8833\n",
            "Epoch 16/100\n",
            "8/8 [==============================] - 14s 2s/step - loss: 0.5163 - accuracy: 0.8327 - val_loss: 0.4829 - val_accuracy: 0.8667\n",
            "Epoch 17/100\n",
            "8/8 [==============================] - 17s 2s/step - loss: 0.5160 - accuracy: 0.8204 - val_loss: 0.4875 - val_accuracy: 0.8667\n",
            "Epoch 18/100\n",
            "8/8 [==============================] - 14s 2s/step - loss: 0.5133 - accuracy: 0.8408 - val_loss: 0.4972 - val_accuracy: 0.8333\n",
            "Epoch 19/100\n",
            "8/8 [==============================] - 14s 2s/step - loss: 0.5174 - accuracy: 0.8367 - val_loss: 0.5002 - val_accuracy: 0.8167\n",
            "Epoch 20/100\n",
            "8/8 [==============================] - 14s 2s/step - loss: 0.5281 - accuracy: 0.7837 - val_loss: 0.4968 - val_accuracy: 0.8167\n",
            "Epoch 21/100\n",
            "8/8 [==============================] - 15s 2s/step - loss: 0.5095 - accuracy: 0.8327 - val_loss: 0.4935 - val_accuracy: 0.8333\n",
            "Epoch 22/100\n",
            "8/8 [==============================] - 14s 2s/step - loss: 0.5190 - accuracy: 0.8204 - val_loss: 0.4992 - val_accuracy: 0.8500\n",
            "Epoch 23/100\n",
            "8/8 [==============================] - 16s 2s/step - loss: 0.4969 - accuracy: 0.8449 - val_loss: 0.5038 - val_accuracy: 0.8333\n",
            "Epoch 24/100\n",
            "8/8 [==============================] - 17s 2s/step - loss: 0.4930 - accuracy: 0.8653 - val_loss: 0.4900 - val_accuracy: 0.8333\n",
            "Epoch 25/100\n",
            "8/8 [==============================] - 15s 2s/step - loss: 0.4874 - accuracy: 0.8490 - val_loss: 0.4799 - val_accuracy: 0.8500\n",
            "Epoch 26/100\n",
            "8/8 [==============================] - 15s 2s/step - loss: 0.4983 - accuracy: 0.8449 - val_loss: 0.4768 - val_accuracy: 0.8500\n",
            "Epoch 27/100\n",
            "8/8 [==============================] - 15s 2s/step - loss: 0.5076 - accuracy: 0.8163 - val_loss: 0.4639 - val_accuracy: 0.8833\n",
            "Epoch 28/100\n",
            "8/8 [==============================] - 15s 2s/step - loss: 0.4785 - accuracy: 0.8857 - val_loss: 0.4807 - val_accuracy: 0.8833\n",
            "Epoch 29/100\n",
            "8/8 [==============================] - 14s 2s/step - loss: 0.4912 - accuracy: 0.8327 - val_loss: 0.5005 - val_accuracy: 0.8167\n",
            "Epoch 30/100\n",
            "8/8 [==============================] - 16s 2s/step - loss: 0.4983 - accuracy: 0.8408 - val_loss: 0.4993 - val_accuracy: 0.8167\n",
            "Epoch 31/100\n",
            "8/8 [==============================] - 14s 2s/step - loss: 0.4918 - accuracy: 0.8612 - val_loss: 0.4796 - val_accuracy: 0.8667\n",
            "Epoch 32/100\n",
            "8/8 [==============================] - 14s 2s/step - loss: 0.4686 - accuracy: 0.9061 - val_loss: 0.4729 - val_accuracy: 0.8500\n",
            "Epoch 33/100\n",
            "8/8 [==============================] - 14s 2s/step - loss: 0.4947 - accuracy: 0.8490 - val_loss: 0.4780 - val_accuracy: 0.8833\n",
            "Epoch 34/100\n",
            "8/8 [==============================] - 14s 2s/step - loss: 0.4807 - accuracy: 0.8571 - val_loss: 0.4790 - val_accuracy: 0.9000\n",
            "Epoch 35/100\n",
            "8/8 [==============================] - 15s 2s/step - loss: 0.4853 - accuracy: 0.8612 - val_loss: 0.4862 - val_accuracy: 0.8167\n",
            "Epoch 36/100\n",
            "8/8 [==============================] - 14s 2s/step - loss: 0.4942 - accuracy: 0.8531 - val_loss: 0.4804 - val_accuracy: 0.8167\n",
            "Epoch 37/100\n",
            "8/8 [==============================] - 15s 2s/step - loss: 0.4830 - accuracy: 0.8612 - val_loss: 0.4831 - val_accuracy: 0.8500\n",
            "Epoch 38/100\n",
            "8/8 [==============================] - 15s 2s/step - loss: 0.4999 - accuracy: 0.8286 - val_loss: 0.4850 - val_accuracy: 0.8667\n",
            "Epoch 39/100\n",
            "8/8 [==============================] - 15s 2s/step - loss: 0.5005 - accuracy: 0.8286 - val_loss: 0.4843 - val_accuracy: 0.8667\n",
            "Epoch 40/100\n",
            "8/8 [==============================] - 16s 2s/step - loss: 0.4786 - accuracy: 0.8531 - val_loss: 0.4813 - val_accuracy: 0.8500\n",
            "Epoch 41/100\n",
            "8/8 [==============================] - 15s 2s/step - loss: 0.4732 - accuracy: 0.8571 - val_loss: 0.4715 - val_accuracy: 0.8667\n",
            "Epoch 42/100\n",
            "8/8 [==============================] - 14s 2s/step - loss: 0.4600 - accuracy: 0.8653 - val_loss: 0.4697 - val_accuracy: 0.8667\n",
            "Epoch 43/100\n",
            "8/8 [==============================] - 15s 2s/step - loss: 0.4771 - accuracy: 0.8408 - val_loss: 0.4664 - val_accuracy: 0.8833\n",
            "Epoch 44/100\n",
            "8/8 [==============================] - 15s 2s/step - loss: 0.4642 - accuracy: 0.8735 - val_loss: 0.4627 - val_accuracy: 0.9000\n",
            "Epoch 45/100\n",
            "8/8 [==============================] - 14s 2s/step - loss: 0.4756 - accuracy: 0.8571 - val_loss: 0.4560 - val_accuracy: 0.8667\n",
            "Epoch 46/100\n",
            "8/8 [==============================] - 14s 2s/step - loss: 0.4707 - accuracy: 0.8531 - val_loss: 0.4558 - val_accuracy: 0.8667\n",
            "Epoch 47/100\n",
            "8/8 [==============================] - 15s 2s/step - loss: 0.4682 - accuracy: 0.8612 - val_loss: 0.4611 - val_accuracy: 0.9000\n",
            "Epoch 48/100\n",
            "8/8 [==============================] - 14s 2s/step - loss: 0.4852 - accuracy: 0.8449 - val_loss: 0.4689 - val_accuracy: 0.8667\n",
            "Epoch 49/100\n",
            "8/8 [==============================] - 14s 2s/step - loss: 0.4577 - accuracy: 0.8816 - val_loss: 0.4757 - val_accuracy: 0.8333\n",
            "Epoch 50/100\n",
            "8/8 [==============================] - 17s 2s/step - loss: 0.4634 - accuracy: 0.8571 - val_loss: 0.4643 - val_accuracy: 0.8833\n",
            "Epoch 51/100\n",
            "8/8 [==============================] - 14s 2s/step - loss: 0.4715 - accuracy: 0.8449 - val_loss: 0.4458 - val_accuracy: 0.8500\n",
            "Epoch 52/100\n",
            "8/8 [==============================] - 14s 2s/step - loss: 0.4564 - accuracy: 0.8735 - val_loss: 0.4475 - val_accuracy: 0.8667\n",
            "Epoch 53/100\n",
            "8/8 [==============================] - 14s 2s/step - loss: 0.4637 - accuracy: 0.8571 - val_loss: 0.4374 - val_accuracy: 0.8833\n",
            "Epoch 54/100\n",
            "8/8 [==============================] - 14s 2s/step - loss: 0.4588 - accuracy: 0.8694 - val_loss: 0.4447 - val_accuracy: 0.8833\n",
            "Epoch 55/100\n",
            "8/8 [==============================] - 14s 2s/step - loss: 0.4438 - accuracy: 0.8898 - val_loss: 0.4475 - val_accuracy: 0.8833\n",
            "Epoch 56/100\n",
            "8/8 [==============================] - 15s 2s/step - loss: 0.4770 - accuracy: 0.8449 - val_loss: 0.4321 - val_accuracy: 0.8667\n",
            "Epoch 57/100\n",
            "8/8 [==============================] - 14s 2s/step - loss: 0.4461 - accuracy: 0.8816 - val_loss: 0.4194 - val_accuracy: 0.9000\n",
            "Epoch 58/100\n",
            "8/8 [==============================] - 15s 2s/step - loss: 0.4528 - accuracy: 0.8735 - val_loss: 0.4203 - val_accuracy: 0.8667\n",
            "Epoch 59/100\n",
            "8/8 [==============================] - 16s 2s/step - loss: 0.4582 - accuracy: 0.8490 - val_loss: 0.4336 - val_accuracy: 0.9000\n",
            "Epoch 60/100\n",
            "8/8 [==============================] - 14s 2s/step - loss: 0.4798 - accuracy: 0.8327 - val_loss: 0.4355 - val_accuracy: 0.9167\n",
            "Epoch 61/100\n",
            "8/8 [==============================] - 14s 2s/step - loss: 0.4529 - accuracy: 0.8898 - val_loss: 0.4359 - val_accuracy: 0.9000\n",
            "Epoch 62/100\n",
            "8/8 [==============================] - 14s 2s/step - loss: 0.4766 - accuracy: 0.8286 - val_loss: 0.4372 - val_accuracy: 0.8833\n",
            "Epoch 63/100\n",
            "8/8 [==============================] - 16s 2s/step - loss: 0.4505 - accuracy: 0.8776 - val_loss: 0.4217 - val_accuracy: 0.9000\n",
            "Epoch 64/100\n",
            "8/8 [==============================] - 14s 2s/step - loss: 0.4440 - accuracy: 0.8898 - val_loss: 0.4238 - val_accuracy: 0.8833\n",
            "Epoch 65/100\n",
            "8/8 [==============================] - 14s 2s/step - loss: 0.4649 - accuracy: 0.8490 - val_loss: 0.4231 - val_accuracy: 0.9000\n",
            "Epoch 66/100\n",
            "8/8 [==============================] - 14s 2s/step - loss: 0.4380 - accuracy: 0.8816 - val_loss: 0.4175 - val_accuracy: 0.9167\n",
            "Epoch 67/100\n",
            "8/8 [==============================] - 14s 2s/step - loss: 0.4472 - accuracy: 0.8816 - val_loss: 0.4247 - val_accuracy: 0.9000\n",
            "Epoch 68/100\n",
            "8/8 [==============================] - 17s 2s/step - loss: 0.4774 - accuracy: 0.8367 - val_loss: 0.4238 - val_accuracy: 0.9000\n",
            "Epoch 69/100\n",
            "8/8 [==============================] - 14s 2s/step - loss: 0.4470 - accuracy: 0.8449 - val_loss: 0.4233 - val_accuracy: 0.9000\n",
            "Epoch 70/100\n",
            "8/8 [==============================] - 14s 2s/step - loss: 0.4574 - accuracy: 0.8531 - val_loss: 0.4239 - val_accuracy: 0.8833\n",
            "Epoch 71/100\n",
            "8/8 [==============================] - 14s 2s/step - loss: 0.4524 - accuracy: 0.8571 - val_loss: 0.4310 - val_accuracy: 0.9000\n",
            "Epoch 72/100\n",
            "8/8 [==============================] - 17s 2s/step - loss: 0.4468 - accuracy: 0.8694 - val_loss: 0.4298 - val_accuracy: 0.8833\n",
            "Epoch 73/100\n",
            "8/8 [==============================] - 14s 2s/step - loss: 0.4615 - accuracy: 0.8531 - val_loss: 0.4307 - val_accuracy: 0.8667\n",
            "Epoch 74/100\n",
            "8/8 [==============================] - 14s 2s/step - loss: 0.4730 - accuracy: 0.8408 - val_loss: 0.4427 - val_accuracy: 0.8833\n",
            "Epoch 75/100\n",
            "8/8 [==============================] - 14s 2s/step - loss: 0.4650 - accuracy: 0.8367 - val_loss: 0.4280 - val_accuracy: 0.9000\n",
            "Epoch 76/100\n",
            "8/8 [==============================] - 16s 2s/step - loss: 0.4382 - accuracy: 0.8816 - val_loss: 0.4269 - val_accuracy: 0.8833\n",
            "Epoch 77/100\n",
            "8/8 [==============================] - 14s 2s/step - loss: 0.4340 - accuracy: 0.8776 - val_loss: 0.4247 - val_accuracy: 0.9000\n",
            "Epoch 78/100\n",
            "8/8 [==============================] - 14s 2s/step - loss: 0.4334 - accuracy: 0.8735 - val_loss: 0.4282 - val_accuracy: 0.9000\n",
            "Epoch 79/100\n",
            "8/8 [==============================] - 15s 2s/step - loss: 0.4365 - accuracy: 0.8735 - val_loss: 0.4378 - val_accuracy: 0.8833\n",
            "Epoch 80/100\n",
            "8/8 [==============================] - 14s 2s/step - loss: 0.4439 - accuracy: 0.8571 - val_loss: 0.4339 - val_accuracy: 0.8833\n",
            "Epoch 81/100\n",
            "8/8 [==============================] - 16s 2s/step - loss: 0.4137 - accuracy: 0.9020 - val_loss: 0.4297 - val_accuracy: 0.8833\n",
            "Epoch 82/100\n",
            "8/8 [==============================] - 14s 2s/step - loss: 0.4518 - accuracy: 0.8490 - val_loss: 0.4275 - val_accuracy: 0.8667\n",
            "Epoch 83/100\n",
            "8/8 [==============================] - 15s 2s/step - loss: 0.4284 - accuracy: 0.8735 - val_loss: 0.4219 - val_accuracy: 0.9000\n",
            "Epoch 84/100\n",
            "8/8 [==============================] - 16s 2s/step - loss: 0.4226 - accuracy: 0.8816 - val_loss: 0.4259 - val_accuracy: 0.9000\n",
            "Epoch 85/100\n",
            "8/8 [==============================] - 14s 2s/step - loss: 0.4467 - accuracy: 0.8490 - val_loss: 0.4256 - val_accuracy: 0.8833\n",
            "Epoch 86/100\n",
            "8/8 [==============================] - 14s 2s/step - loss: 0.4418 - accuracy: 0.8571 - val_loss: 0.4330 - val_accuracy: 0.8333\n",
            "Epoch 87/100\n",
            "8/8 [==============================] - 14s 2s/step - loss: 0.4438 - accuracy: 0.8612 - val_loss: 0.4293 - val_accuracy: 0.8333\n",
            "Epoch 88/100\n",
            "8/8 [==============================] - 14s 2s/step - loss: 0.4420 - accuracy: 0.8571 - val_loss: 0.4314 - val_accuracy: 0.8667\n",
            "Epoch 89/100\n",
            "8/8 [==============================] - 16s 2s/step - loss: 0.4343 - accuracy: 0.8735 - val_loss: 0.4682 - val_accuracy: 0.8000\n",
            "Epoch 90/100\n",
            "8/8 [==============================] - 14s 2s/step - loss: 0.4353 - accuracy: 0.8653 - val_loss: 0.4594 - val_accuracy: 0.8167\n",
            "Epoch 91/100\n",
            "8/8 [==============================] - 14s 2s/step - loss: 0.4395 - accuracy: 0.8612 - val_loss: 0.4337 - val_accuracy: 0.8333\n",
            "Epoch 92/100\n",
            "8/8 [==============================] - 16s 2s/step - loss: 0.4460 - accuracy: 0.8367 - val_loss: 0.3995 - val_accuracy: 0.9167\n",
            "Epoch 93/100\n",
            "8/8 [==============================] - 14s 2s/step - loss: 0.4426 - accuracy: 0.8490 - val_loss: 0.4033 - val_accuracy: 0.9167\n",
            "Epoch 94/100\n",
            "8/8 [==============================] - 15s 2s/step - loss: 0.4163 - accuracy: 0.8816 - val_loss: 0.4044 - val_accuracy: 0.9000\n",
            "Epoch 95/100\n",
            "8/8 [==============================] - 14s 2s/step - loss: 0.4631 - accuracy: 0.8367 - val_loss: 0.3804 - val_accuracy: 0.9500\n",
            "Epoch 96/100\n",
            "8/8 [==============================] - 15s 2s/step - loss: 0.4237 - accuracy: 0.8735 - val_loss: 0.3810 - val_accuracy: 0.9500\n",
            "Epoch 97/100\n",
            "8/8 [==============================] - 15s 2s/step - loss: 0.3989 - accuracy: 0.9143 - val_loss: 0.3850 - val_accuracy: 0.9333\n",
            "Epoch 98/100\n",
            "8/8 [==============================] - 15s 2s/step - loss: 0.4173 - accuracy: 0.8816 - val_loss: 0.3897 - val_accuracy: 0.9333\n",
            "Epoch 99/100\n",
            "8/8 [==============================] - 16s 2s/step - loss: 0.4283 - accuracy: 0.8735 - val_loss: 0.3888 - val_accuracy: 0.9333\n",
            "Epoch 100/100\n",
            "8/8 [==============================] - 14s 2s/step - loss: 0.4377 - accuracy: 0.8490 - val_loss: 0.3878 - val_accuracy: 0.9167\n"
          ]
        }
      ]
    },
    {
      "cell_type": "code",
      "source": [
        "image_prediction = model_meander.predict(val_generator)\n",
        "loss, accuracy = model_meander.evaluate(val_generator)\n",
        "print(f'Test loss: {loss:.4f}, accuracy: {accuracy:.4f}')"
      ],
      "metadata": {
        "colab": {
          "base_uri": "https://localhost:8080/"
        },
        "id": "rzc9pV1bZt9Y",
        "outputId": "351c5967-26a1-4095-cb10-bee90e684d69"
      },
      "execution_count": 18,
      "outputs": [
        {
          "output_type": "stream",
          "name": "stdout",
          "text": [
            "2/2 [==============================] - 5s 1s/step\n",
            "2/2 [==============================] - 2s 1s/step - loss: 0.3878 - accuracy: 0.9167\n",
            "Test loss: 0.3878, accuracy: 0.9167\n"
          ]
        }
      ]
    },
    {
      "cell_type": "markdown",
      "source": [
        "## **Spiral**"
      ],
      "metadata": {
        "id": "oGzTYHzMagqT"
      }
    },
    {
      "cell_type": "code",
      "source": [
        "os.listdir('/content/drive/MyDrive/Dataset/Spiral/Train')"
      ],
      "metadata": {
        "colab": {
          "base_uri": "https://localhost:8080/"
        },
        "id": "39wvBC-rajhh",
        "outputId": "2a7ee6f8-f3ed-4f80-b715-98647f3f2343"
      },
      "execution_count": 19,
      "outputs": [
        {
          "output_type": "execute_result",
          "data": {
            "text/plain": [
              "['Patient', 'Healthy']"
            ]
          },
          "metadata": {},
          "execution_count": 19
        }
      ]
    },
    {
      "cell_type": "code",
      "source": [
        "os.listdir('/content/drive/MyDrive/Dataset/Spiral/Test')"
      ],
      "metadata": {
        "colab": {
          "base_uri": "https://localhost:8080/"
        },
        "id": "k8weeBS6aoIr",
        "outputId": "fc9c6b10-4954-4cea-ef18-f096737e25a1"
      },
      "execution_count": 20,
      "outputs": [
        {
          "output_type": "execute_result",
          "data": {
            "text/plain": [
              "['Patient', 'Healthy']"
            ]
          },
          "metadata": {},
          "execution_count": 20
        }
      ]
    },
    {
      "cell_type": "code",
      "source": [
        "TRAIN_DIR='/content/drive/MyDrive/Dataset/Spiral/Train'"
      ],
      "metadata": {
        "id": "O5KScFrRaySm"
      },
      "execution_count": 21,
      "outputs": []
    },
    {
      "cell_type": "code",
      "source": [
        "train_dir='/content/drive/MyDrive/Dataset/Spiral/Train'\n",
        "test_dir='/content/drive/MyDrive/Dataset/Spiral/Test'"
      ],
      "metadata": {
        "id": "hEW6lx-Ca1Jt"
      },
      "execution_count": 22,
      "outputs": []
    },
    {
      "cell_type": "code",
      "source": [
        "# Create the training and validation directories if they don't exist\n",
        "train_dir = 'train1'\n",
        "valid_dir = 'val1'\n",
        "os.makedirs(train_dir, exist_ok=True)\n",
        "os.makedirs(valid_dir, exist_ok=True)\n",
        "\n",
        "for subdir in os.listdir(TRAIN_DIR):\n",
        "    subdir_path = os.path.join(TRAIN_DIR, subdir)\n",
        "\n",
        "    # Create corresponding subdirectories in train and val directories\n",
        "    train_subdir = os.path.join(train_dir, subdir)\n",
        "    valid_subdir = os.path.join(valid_dir, subdir)\n",
        "\n",
        "    os.makedirs(train_subdir, exist_ok=True)\n",
        "    os.makedirs(valid_subdir, exist_ok=True)\n",
        "\n",
        "    all_images = os.listdir(subdir_path)\n",
        "\n",
        "    num_validation = int(len(all_images) * 0.2)\n",
        "    validation_images = random.sample(all_images, num_validation)\n",
        "\n",
        "    for img in all_images:\n",
        "        source_path = os.path.join(subdir_path, img)\n",
        "        dest_dir = valid_subdir if img in validation_images else train_subdir\n",
        "        dest_path = os.path.join(dest_dir, img)\n",
        "        shutil.copy(source_path, dest_path)"
      ],
      "metadata": {
        "id": "A9gOL6T1a3FZ"
      },
      "execution_count": 23,
      "outputs": []
    },
    {
      "cell_type": "code",
      "source": [
        "train_datagen = ImageDataGenerator(\n",
        "    rescale=1.0/255.0,      # Rescale pixel values to [0, 1]\n",
        "    rotation_range=25,      # Randomly rotate images by up to 25 degrees\n",
        "    width_shift_range=0.3,  # Randomly shift the width of images\n",
        "    height_shift_range=0.3, # Randomly shift the height of images\n",
        "    horizontal_flip=True,   # Randomly flip images horizontally\n",
        "    shear_range=0.3,        # Apply shear transformations\n",
        "    zoom_range=0.4,         # Randomly zoom into images\n",
        "    fill_mode='nearest'     # Fill empty pixels with the nearest value\n",
        ")\n",
        "\n",
        "test_datagen = ImageDataGenerator(rescale = 1.0 / 255)\n",
        "# Create data generators for training and validation data\n",
        "batch_size = 32\n",
        "image_size = (150, 150)\n",
        "\n",
        "train_generator = train_datagen.flow_from_directory(\n",
        "    '/content/train1',\n",
        "    target_size=image_size,\n",
        "    batch_size=batch_size,\n",
        "    class_mode='binary'\n",
        ")\n",
        "\n",
        "val_generator = test_datagen.flow_from_directory(\n",
        "    '/content/val1',\n",
        "    target_size=image_size,\n",
        "    batch_size=batch_size,\n",
        "    class_mode='binary'\n",
        ")\n",
        "\n",
        "\n"
      ],
      "metadata": {
        "colab": {
          "base_uri": "https://localhost:8080/"
        },
        "id": "8t6WuxCua5Yw",
        "outputId": "d2238031-7214-4cd7-f5e3-ba903744e649"
      },
      "execution_count": 24,
      "outputs": [
        {
          "output_type": "stream",
          "name": "stdout",
          "text": [
            "Found 280 images belonging to 2 classes.\n",
            "Found 69 images belonging to 2 classes.\n"
          ]
        }
      ]
    },
    {
      "cell_type": "code",
      "source": [
        "efficient_net = hub.KerasLayer(\"https://www.kaggle.com/models/google/efficientnet-v2/frameworks/TensorFlow2/variations/imagenet21k-b3-feature-vector/versions/1\",trainable=False)"
      ],
      "metadata": {
        "id": "rFRjai13bCTm"
      },
      "execution_count": 25,
      "outputs": []
    },
    {
      "cell_type": "code",
      "source": [
        "\n",
        "model_spiral = keras.Sequential([\n",
        "    efficient_net,\n",
        "    keras.layers.Flatten(),  # Add a Flatten layer to reshape the output\n",
        "    keras.layers.Dense(512, activation='relu'),\n",
        "    keras.layers.BatchNormalization(),\n",
        "    keras.layers.Dropout(0.5),\n",
        "    keras.layers.Dense(256, activation='relu'),\n",
        "    keras.layers.BatchNormalization(),\n",
        "    keras.layers.Dropout(0.3),\n",
        "    keras.layers.Dense(128, activation='relu'),\n",
        "    keras.layers.BatchNormalization(),\n",
        "    keras.layers.Dropout(0.3),\n",
        "    keras.layers.Dense(6, activation='softmax'),\n",
        "    keras.layers.Dense(1, activation='sigmoid'),\n",
        "])\n",
        "\n",
        "model_spiral.build((None, image_size[0], image_size[1], 3))\n",
        "\n",
        "lr_schedule = keras.optimizers.schedules.ExponentialDecay(5e-4, decay_steps=10000, decay_rate=0.9)\n",
        "model_spiral.compile(optimizer=keras.optimizers.Adam(learning_rate=lr_schedule),\n",
        "              loss='binary_crossentropy',\n",
        "              metrics=['accuracy'])\n",
        "\n",
        "early_stopping = keras.callbacks.EarlyStopping( monitor='val_accuracy',patience=5,restore_best_weights=True)"
      ],
      "metadata": {
        "id": "Jmu-irtTbFCB"
      },
      "execution_count": 26,
      "outputs": []
    },
    {
      "cell_type": "code",
      "source": [
        "history = model_spiral.fit(train_generator, epochs=100, validation_data=val_generator)\n",
        "\n",
        "\n",
        "# Save the model\n",
        "model_spiral.save(\"spiral_model.h5\")\n",
        "\n",
        "# Optionally, save the training history as well\n",
        "import pickle\n",
        "\n",
        "with open('training_history.pkl', 'wb') as file:\n",
        "    pickle.dump(history.history, file)\n"
      ],
      "metadata": {
        "colab": {
          "base_uri": "https://localhost:8080/"
        },
        "id": "SMvXuNSQbIox",
        "outputId": "93efec4f-7855-42e9-affd-3be5eaf1925f"
      },
      "execution_count": 27,
      "outputs": [
        {
          "output_type": "stream",
          "name": "stdout",
          "text": [
            "Epoch 1/100\n",
            "9/9 [==============================] - 33s 2s/step - loss: 0.6584 - accuracy: 0.6179 - val_loss: 0.6821 - val_accuracy: 0.4928\n",
            "Epoch 2/100\n",
            "9/9 [==============================] - 17s 2s/step - loss: 0.6336 - accuracy: 0.6500 - val_loss: 0.6506 - val_accuracy: 0.6522\n",
            "Epoch 3/100\n",
            "9/9 [==============================] - 18s 2s/step - loss: 0.6156 - accuracy: 0.6964 - val_loss: 0.6209 - val_accuracy: 0.6667\n",
            "Epoch 4/100\n",
            "9/9 [==============================] - 16s 2s/step - loss: 0.5924 - accuracy: 0.7500 - val_loss: 0.6076 - val_accuracy: 0.7101\n",
            "Epoch 5/100\n",
            "9/9 [==============================] - 19s 2s/step - loss: 0.5770 - accuracy: 0.7929 - val_loss: 0.5900 - val_accuracy: 0.7536\n",
            "Epoch 6/100\n",
            "9/9 [==============================] - 17s 2s/step - loss: 0.5925 - accuracy: 0.7179 - val_loss: 0.5802 - val_accuracy: 0.7391\n",
            "Epoch 7/100\n",
            "9/9 [==============================] - 17s 2s/step - loss: 0.5752 - accuracy: 0.7786 - val_loss: 0.5700 - val_accuracy: 0.7391\n",
            "Epoch 8/100\n",
            "9/9 [==============================] - 19s 2s/step - loss: 0.5609 - accuracy: 0.7857 - val_loss: 0.5674 - val_accuracy: 0.7391\n",
            "Epoch 9/100\n",
            "9/9 [==============================] - 19s 2s/step - loss: 0.5723 - accuracy: 0.7536 - val_loss: 0.5520 - val_accuracy: 0.7826\n",
            "Epoch 10/100\n",
            "9/9 [==============================] - 16s 2s/step - loss: 0.5658 - accuracy: 0.7679 - val_loss: 0.5403 - val_accuracy: 0.7826\n",
            "Epoch 11/100\n",
            "9/9 [==============================] - 16s 2s/step - loss: 0.5454 - accuracy: 0.8250 - val_loss: 0.5286 - val_accuracy: 0.8261\n",
            "Epoch 12/100\n",
            "9/9 [==============================] - 19s 2s/step - loss: 0.5502 - accuracy: 0.8000 - val_loss: 0.5229 - val_accuracy: 0.8551\n",
            "Epoch 13/100\n",
            "9/9 [==============================] - 16s 2s/step - loss: 0.5406 - accuracy: 0.8071 - val_loss: 0.5205 - val_accuracy: 0.8116\n",
            "Epoch 14/100\n",
            "9/9 [==============================] - 19s 2s/step - loss: 0.5266 - accuracy: 0.8571 - val_loss: 0.5363 - val_accuracy: 0.7971\n",
            "Epoch 15/100\n",
            "9/9 [==============================] - 19s 2s/step - loss: 0.5416 - accuracy: 0.7964 - val_loss: 0.5356 - val_accuracy: 0.7971\n",
            "Epoch 16/100\n",
            "9/9 [==============================] - 16s 2s/step - loss: 0.5532 - accuracy: 0.7679 - val_loss: 0.5456 - val_accuracy: 0.7826\n",
            "Epoch 17/100\n",
            "9/9 [==============================] - 19s 2s/step - loss: 0.5410 - accuracy: 0.8000 - val_loss: 0.5563 - val_accuracy: 0.7246\n",
            "Epoch 18/100\n",
            "9/9 [==============================] - 17s 2s/step - loss: 0.5385 - accuracy: 0.7929 - val_loss: 0.5598 - val_accuracy: 0.6957\n",
            "Epoch 19/100\n",
            "9/9 [==============================] - 19s 2s/step - loss: 0.5209 - accuracy: 0.8250 - val_loss: 0.5427 - val_accuracy: 0.7826\n",
            "Epoch 20/100\n",
            "9/9 [==============================] - 16s 2s/step - loss: 0.5372 - accuracy: 0.7857 - val_loss: 0.5218 - val_accuracy: 0.7971\n",
            "Epoch 21/100\n",
            "9/9 [==============================] - 16s 2s/step - loss: 0.5305 - accuracy: 0.8071 - val_loss: 0.5074 - val_accuracy: 0.8406\n",
            "Epoch 22/100\n",
            "9/9 [==============================] - 16s 2s/step - loss: 0.5275 - accuracy: 0.8036 - val_loss: 0.5054 - val_accuracy: 0.8261\n",
            "Epoch 23/100\n",
            "9/9 [==============================] - 18s 2s/step - loss: 0.5317 - accuracy: 0.7929 - val_loss: 0.5070 - val_accuracy: 0.8116\n",
            "Epoch 24/100\n",
            "9/9 [==============================] - 18s 2s/step - loss: 0.5083 - accuracy: 0.8357 - val_loss: 0.5025 - val_accuracy: 0.8261\n",
            "Epoch 25/100\n",
            "9/9 [==============================] - 19s 2s/step - loss: 0.5139 - accuracy: 0.8429 - val_loss: 0.5001 - val_accuracy: 0.8261\n",
            "Epoch 26/100\n",
            "9/9 [==============================] - 19s 2s/step - loss: 0.5168 - accuracy: 0.8357 - val_loss: 0.4990 - val_accuracy: 0.8116\n",
            "Epoch 27/100\n",
            "9/9 [==============================] - 19s 2s/step - loss: 0.5052 - accuracy: 0.8500 - val_loss: 0.4953 - val_accuracy: 0.8261\n",
            "Epoch 28/100\n",
            "9/9 [==============================] - 18s 2s/step - loss: 0.5087 - accuracy: 0.8321 - val_loss: 0.4926 - val_accuracy: 0.8406\n",
            "Epoch 29/100\n",
            "9/9 [==============================] - 16s 2s/step - loss: 0.5147 - accuracy: 0.8250 - val_loss: 0.4984 - val_accuracy: 0.8261\n",
            "Epoch 30/100\n",
            "9/9 [==============================] - 19s 2s/step - loss: 0.5108 - accuracy: 0.8179 - val_loss: 0.4932 - val_accuracy: 0.8406\n",
            "Epoch 31/100\n",
            "9/9 [==============================] - 18s 2s/step - loss: 0.5253 - accuracy: 0.7964 - val_loss: 0.4949 - val_accuracy: 0.8261\n",
            "Epoch 32/100\n",
            "9/9 [==============================] - 19s 2s/step - loss: 0.5067 - accuracy: 0.8321 - val_loss: 0.5213 - val_accuracy: 0.7971\n",
            "Epoch 33/100\n",
            "9/9 [==============================] - 19s 2s/step - loss: 0.5213 - accuracy: 0.7857 - val_loss: 0.5199 - val_accuracy: 0.7971\n",
            "Epoch 34/100\n",
            "9/9 [==============================] - 19s 2s/step - loss: 0.5004 - accuracy: 0.8071 - val_loss: 0.4948 - val_accuracy: 0.8406\n",
            "Epoch 35/100\n",
            "9/9 [==============================] - 16s 2s/step - loss: 0.5018 - accuracy: 0.8214 - val_loss: 0.4894 - val_accuracy: 0.8406\n",
            "Epoch 36/100\n",
            "9/9 [==============================] - 16s 2s/step - loss: 0.4929 - accuracy: 0.8571 - val_loss: 0.5046 - val_accuracy: 0.8116\n",
            "Epoch 37/100\n",
            "9/9 [==============================] - 19s 2s/step - loss: 0.4901 - accuracy: 0.8571 - val_loss: 0.5366 - val_accuracy: 0.7536\n",
            "Epoch 38/100\n",
            "9/9 [==============================] - 19s 2s/step - loss: 0.5046 - accuracy: 0.8107 - val_loss: 0.5285 - val_accuracy: 0.7536\n",
            "Epoch 39/100\n",
            "9/9 [==============================] - 17s 2s/step - loss: 0.4946 - accuracy: 0.8286 - val_loss: 0.4824 - val_accuracy: 0.8551\n",
            "Epoch 40/100\n",
            "9/9 [==============================] - 19s 2s/step - loss: 0.4916 - accuracy: 0.8286 - val_loss: 0.4820 - val_accuracy: 0.8406\n",
            "Epoch 41/100\n",
            "9/9 [==============================] - 17s 2s/step - loss: 0.4973 - accuracy: 0.8286 - val_loss: 0.4811 - val_accuracy: 0.8406\n",
            "Epoch 42/100\n",
            "9/9 [==============================] - 19s 2s/step - loss: 0.4972 - accuracy: 0.8214 - val_loss: 0.4937 - val_accuracy: 0.8261\n",
            "Epoch 43/100\n",
            "9/9 [==============================] - 16s 2s/step - loss: 0.4938 - accuracy: 0.8214 - val_loss: 0.5025 - val_accuracy: 0.8116\n",
            "Epoch 44/100\n",
            "9/9 [==============================] - 16s 2s/step - loss: 0.4952 - accuracy: 0.8214 - val_loss: 0.4973 - val_accuracy: 0.8116\n",
            "Epoch 45/100\n",
            "9/9 [==============================] - 18s 2s/step - loss: 0.4845 - accuracy: 0.8464 - val_loss: 0.5107 - val_accuracy: 0.7971\n",
            "Epoch 46/100\n",
            "9/9 [==============================] - 16s 2s/step - loss: 0.4906 - accuracy: 0.8143 - val_loss: 0.5054 - val_accuracy: 0.7971\n",
            "Epoch 47/100\n",
            "9/9 [==============================] - 16s 2s/step - loss: 0.5018 - accuracy: 0.8036 - val_loss: 0.4855 - val_accuracy: 0.8406\n",
            "Epoch 48/100\n",
            "9/9 [==============================] - 16s 2s/step - loss: 0.4762 - accuracy: 0.8500 - val_loss: 0.4912 - val_accuracy: 0.8116\n",
            "Epoch 49/100\n",
            "9/9 [==============================] - 16s 2s/step - loss: 0.5074 - accuracy: 0.7964 - val_loss: 0.4996 - val_accuracy: 0.7971\n",
            "Epoch 50/100\n",
            "9/9 [==============================] - 16s 2s/step - loss: 0.4950 - accuracy: 0.8179 - val_loss: 0.4867 - val_accuracy: 0.8406\n",
            "Epoch 51/100\n",
            "9/9 [==============================] - 19s 2s/step - loss: 0.4838 - accuracy: 0.8286 - val_loss: 0.5011 - val_accuracy: 0.7971\n",
            "Epoch 52/100\n",
            "9/9 [==============================] - 19s 2s/step - loss: 0.4767 - accuracy: 0.8393 - val_loss: 0.5164 - val_accuracy: 0.7681\n",
            "Epoch 53/100\n",
            "9/9 [==============================] - 16s 2s/step - loss: 0.4733 - accuracy: 0.8500 - val_loss: 0.5130 - val_accuracy: 0.7681\n",
            "Epoch 54/100\n",
            "9/9 [==============================] - 18s 2s/step - loss: 0.4927 - accuracy: 0.8143 - val_loss: 0.4958 - val_accuracy: 0.8116\n",
            "Epoch 55/100\n",
            "9/9 [==============================] - 18s 2s/step - loss: 0.4936 - accuracy: 0.8107 - val_loss: 0.4836 - val_accuracy: 0.8116\n",
            "Epoch 56/100\n",
            "9/9 [==============================] - 19s 2s/step - loss: 0.4723 - accuracy: 0.8429 - val_loss: 0.4854 - val_accuracy: 0.8116\n",
            "Epoch 57/100\n",
            "9/9 [==============================] - 19s 2s/step - loss: 0.4788 - accuracy: 0.8393 - val_loss: 0.4936 - val_accuracy: 0.8116\n",
            "Epoch 58/100\n",
            "9/9 [==============================] - 18s 2s/step - loss: 0.4848 - accuracy: 0.8179 - val_loss: 0.5539 - val_accuracy: 0.7101\n",
            "Epoch 59/100\n",
            "9/9 [==============================] - 16s 2s/step - loss: 0.4743 - accuracy: 0.8429 - val_loss: 0.5694 - val_accuracy: 0.6812\n",
            "Epoch 60/100\n",
            "9/9 [==============================] - 17s 2s/step - loss: 0.5015 - accuracy: 0.7929 - val_loss: 0.5477 - val_accuracy: 0.7101\n",
            "Epoch 61/100\n",
            "9/9 [==============================] - 16s 2s/step - loss: 0.4848 - accuracy: 0.8143 - val_loss: 0.5377 - val_accuracy: 0.7391\n",
            "Epoch 62/100\n",
            "9/9 [==============================] - 19s 2s/step - loss: 0.4778 - accuracy: 0.8250 - val_loss: 0.5024 - val_accuracy: 0.7826\n",
            "Epoch 63/100\n",
            "9/9 [==============================] - 16s 2s/step - loss: 0.4760 - accuracy: 0.8214 - val_loss: 0.4855 - val_accuracy: 0.8116\n",
            "Epoch 64/100\n",
            "9/9 [==============================] - 18s 2s/step - loss: 0.4429 - accuracy: 0.8750 - val_loss: 0.4949 - val_accuracy: 0.7971\n",
            "Epoch 65/100\n",
            "9/9 [==============================] - 19s 2s/step - loss: 0.4722 - accuracy: 0.8250 - val_loss: 0.4845 - val_accuracy: 0.7971\n",
            "Epoch 66/100\n",
            "9/9 [==============================] - 16s 2s/step - loss: 0.4833 - accuracy: 0.8214 - val_loss: 0.4667 - val_accuracy: 0.8261\n",
            "Epoch 67/100\n",
            "9/9 [==============================] - 19s 2s/step - loss: 0.4731 - accuracy: 0.8286 - val_loss: 0.4845 - val_accuracy: 0.8116\n",
            "Epoch 68/100\n",
            "9/9 [==============================] - 17s 2s/step - loss: 0.4808 - accuracy: 0.8214 - val_loss: 0.5116 - val_accuracy: 0.7681\n",
            "Epoch 69/100\n",
            "9/9 [==============================] - 18s 2s/step - loss: 0.4609 - accuracy: 0.8500 - val_loss: 0.5029 - val_accuracy: 0.7971\n",
            "Epoch 70/100\n",
            "9/9 [==============================] - 18s 2s/step - loss: 0.4578 - accuracy: 0.8536 - val_loss: 0.5127 - val_accuracy: 0.7536\n",
            "Epoch 71/100\n",
            "9/9 [==============================] - 18s 2s/step - loss: 0.4897 - accuracy: 0.8000 - val_loss: 0.5328 - val_accuracy: 0.7536\n",
            "Epoch 72/100\n",
            "9/9 [==============================] - 17s 2s/step - loss: 0.4539 - accuracy: 0.8679 - val_loss: 0.5712 - val_accuracy: 0.6812\n",
            "Epoch 73/100\n",
            "9/9 [==============================] - 18s 2s/step - loss: 0.4880 - accuracy: 0.8107 - val_loss: 0.5785 - val_accuracy: 0.6667\n",
            "Epoch 74/100\n",
            "9/9 [==============================] - 16s 2s/step - loss: 0.4730 - accuracy: 0.8429 - val_loss: 0.5441 - val_accuracy: 0.7101\n",
            "Epoch 75/100\n",
            "9/9 [==============================] - 18s 2s/step - loss: 0.4926 - accuracy: 0.7964 - val_loss: 0.5144 - val_accuracy: 0.7826\n",
            "Epoch 76/100\n",
            "9/9 [==============================] - 18s 2s/step - loss: 0.4707 - accuracy: 0.8393 - val_loss: 0.5252 - val_accuracy: 0.7391\n",
            "Epoch 77/100\n",
            "9/9 [==============================] - 16s 2s/step - loss: 0.4422 - accuracy: 0.8571 - val_loss: 0.5367 - val_accuracy: 0.7391\n",
            "Epoch 78/100\n",
            "9/9 [==============================] - 16s 2s/step - loss: 0.4648 - accuracy: 0.8393 - val_loss: 0.5326 - val_accuracy: 0.7391\n",
            "Epoch 79/100\n",
            "9/9 [==============================] - 16s 2s/step - loss: 0.4627 - accuracy: 0.8357 - val_loss: 0.5138 - val_accuracy: 0.7681\n",
            "Epoch 80/100\n",
            "9/9 [==============================] - 18s 2s/step - loss: 0.4740 - accuracy: 0.8250 - val_loss: 0.4562 - val_accuracy: 0.8551\n",
            "Epoch 81/100\n",
            "9/9 [==============================] - 18s 2s/step - loss: 0.4784 - accuracy: 0.8071 - val_loss: 0.4535 - val_accuracy: 0.8551\n",
            "Epoch 82/100\n",
            "9/9 [==============================] - 18s 2s/step - loss: 0.4587 - accuracy: 0.8321 - val_loss: 0.5083 - val_accuracy: 0.7536\n",
            "Epoch 83/100\n",
            "9/9 [==============================] - 18s 2s/step - loss: 0.4855 - accuracy: 0.8143 - val_loss: 0.5033 - val_accuracy: 0.7681\n",
            "Epoch 84/100\n",
            "9/9 [==============================] - 18s 2s/step - loss: 0.4651 - accuracy: 0.8250 - val_loss: 0.5035 - val_accuracy: 0.7681\n",
            "Epoch 85/100\n",
            "9/9 [==============================] - 16s 2s/step - loss: 0.4809 - accuracy: 0.8107 - val_loss: 0.4673 - val_accuracy: 0.8261\n",
            "Epoch 86/100\n",
            "9/9 [==============================] - 17s 2s/step - loss: 0.4462 - accuracy: 0.8536 - val_loss: 0.4631 - val_accuracy: 0.8261\n",
            "Epoch 87/100\n",
            "9/9 [==============================] - 16s 2s/step - loss: 0.4610 - accuracy: 0.8357 - val_loss: 0.4626 - val_accuracy: 0.8261\n",
            "Epoch 88/100\n",
            "9/9 [==============================] - 16s 2s/step - loss: 0.4840 - accuracy: 0.8000 - val_loss: 0.4658 - val_accuracy: 0.8116\n",
            "Epoch 89/100\n",
            "9/9 [==============================] - 18s 2s/step - loss: 0.4572 - accuracy: 0.8536 - val_loss: 0.4666 - val_accuracy: 0.8261\n",
            "Epoch 90/100\n",
            "9/9 [==============================] - 16s 2s/step - loss: 0.4706 - accuracy: 0.8214 - val_loss: 0.4591 - val_accuracy: 0.8406\n",
            "Epoch 91/100\n",
            "9/9 [==============================] - 17s 2s/step - loss: 0.4660 - accuracy: 0.8321 - val_loss: 0.4702 - val_accuracy: 0.8261\n",
            "Epoch 92/100\n",
            "9/9 [==============================] - 16s 2s/step - loss: 0.4512 - accuracy: 0.8464 - val_loss: 0.4904 - val_accuracy: 0.8116\n",
            "Epoch 93/100\n",
            "9/9 [==============================] - 18s 2s/step - loss: 0.4703 - accuracy: 0.8214 - val_loss: 0.4893 - val_accuracy: 0.7826\n",
            "Epoch 94/100\n",
            "9/9 [==============================] - 18s 2s/step - loss: 0.4587 - accuracy: 0.8500 - val_loss: 0.4605 - val_accuracy: 0.8551\n",
            "Epoch 95/100\n",
            "9/9 [==============================] - 16s 2s/step - loss: 0.4569 - accuracy: 0.8286 - val_loss: 0.4827 - val_accuracy: 0.7971\n",
            "Epoch 96/100\n",
            "9/9 [==============================] - 18s 2s/step - loss: 0.4501 - accuracy: 0.8429 - val_loss: 0.4730 - val_accuracy: 0.8116\n",
            "Epoch 97/100\n",
            "9/9 [==============================] - 18s 2s/step - loss: 0.4347 - accuracy: 0.8607 - val_loss: 0.4587 - val_accuracy: 0.8406\n",
            "Epoch 98/100\n",
            "9/9 [==============================] - 18s 2s/step - loss: 0.4473 - accuracy: 0.8500 - val_loss: 0.4599 - val_accuracy: 0.8551\n",
            "Epoch 99/100\n",
            "9/9 [==============================] - 16s 2s/step - loss: 0.4768 - accuracy: 0.8143 - val_loss: 0.5093 - val_accuracy: 0.7681\n",
            "Epoch 100/100\n",
            "9/9 [==============================] - 18s 2s/step - loss: 0.4683 - accuracy: 0.8179 - val_loss: 0.5460 - val_accuracy: 0.7246\n"
          ]
        }
      ]
    },
    {
      "cell_type": "code",
      "source": [
        "image_predictions1 = model_spiral.predict(val_generator)\n",
        "loss1, accuracy1 = model_spiral.evaluate(val_generator)\n",
        "print(f'Test loss: {loss1:.4f}, accuracy: {accuracy1:.4f}')"
      ],
      "metadata": {
        "id": "wITg1tXsbPzV",
        "colab": {
          "base_uri": "https://localhost:8080/"
        },
        "outputId": "d3e3dcef-bdc1-4476-99e4-b2f87cb1669f"
      },
      "execution_count": 28,
      "outputs": [
        {
          "output_type": "stream",
          "name": "stdout",
          "text": [
            "3/3 [==============================] - 5s 1s/step\n",
            "3/3 [==============================] - 3s 724ms/step - loss: 0.5460 - accuracy: 0.7246\n",
            "Test loss: 0.5460, accuracy: 0.7246\n"
          ]
        }
      ]
    },
    {
      "cell_type": "markdown",
      "source": [
        "## **CatBoost**"
      ],
      "metadata": {
        "id": "73SBRMszXaLS"
      }
    },
    {
      "cell_type": "code",
      "source": [
        "pip install catboost"
      ],
      "metadata": {
        "id": "QwQ0sMx6XYqr",
        "colab": {
          "base_uri": "https://localhost:8080/"
        },
        "outputId": "894ad92a-89ed-4b33-dad7-719c0ea6d8c6"
      },
      "execution_count": 29,
      "outputs": [
        {
          "output_type": "stream",
          "name": "stdout",
          "text": [
            "Requirement already satisfied: catboost in /usr/local/lib/python3.10/dist-packages (1.2.3)\n",
            "Requirement already satisfied: graphviz in /usr/local/lib/python3.10/dist-packages (from catboost) (0.20.2)\n",
            "Requirement already satisfied: matplotlib in /usr/local/lib/python3.10/dist-packages (from catboost) (3.7.1)\n",
            "Requirement already satisfied: numpy>=1.16.0 in /usr/local/lib/python3.10/dist-packages (from catboost) (1.25.2)\n",
            "Requirement already satisfied: pandas>=0.24 in /usr/local/lib/python3.10/dist-packages (from catboost) (1.5.3)\n",
            "Requirement already satisfied: scipy in /usr/local/lib/python3.10/dist-packages (from catboost) (1.11.4)\n",
            "Requirement already satisfied: plotly in /usr/local/lib/python3.10/dist-packages (from catboost) (5.15.0)\n",
            "Requirement already satisfied: six in /usr/local/lib/python3.10/dist-packages (from catboost) (1.16.0)\n",
            "Requirement already satisfied: python-dateutil>=2.8.1 in /usr/local/lib/python3.10/dist-packages (from pandas>=0.24->catboost) (2.8.2)\n",
            "Requirement already satisfied: pytz>=2020.1 in /usr/local/lib/python3.10/dist-packages (from pandas>=0.24->catboost) (2023.4)\n",
            "Requirement already satisfied: contourpy>=1.0.1 in /usr/local/lib/python3.10/dist-packages (from matplotlib->catboost) (1.2.0)\n",
            "Requirement already satisfied: cycler>=0.10 in /usr/local/lib/python3.10/dist-packages (from matplotlib->catboost) (0.12.1)\n",
            "Requirement already satisfied: fonttools>=4.22.0 in /usr/local/lib/python3.10/dist-packages (from matplotlib->catboost) (4.50.0)\n",
            "Requirement already satisfied: kiwisolver>=1.0.1 in /usr/local/lib/python3.10/dist-packages (from matplotlib->catboost) (1.4.5)\n",
            "Requirement already satisfied: packaging>=20.0 in /usr/local/lib/python3.10/dist-packages (from matplotlib->catboost) (24.0)\n",
            "Requirement already satisfied: pillow>=6.2.0 in /usr/local/lib/python3.10/dist-packages (from matplotlib->catboost) (9.4.0)\n",
            "Requirement already satisfied: pyparsing>=2.3.1 in /usr/local/lib/python3.10/dist-packages (from matplotlib->catboost) (3.1.2)\n",
            "Requirement already satisfied: tenacity>=6.2.0 in /usr/local/lib/python3.10/dist-packages (from plotly->catboost) (8.2.3)\n"
          ]
        }
      ]
    },
    {
      "cell_type": "code",
      "source": [
        "import pandas as pd\n",
        "\n",
        "# Read the CSV file into a DataFrame\n",
        "df = pd.read_csv(\"/content/drive/MyDrive/ParkinsonDisease/MDVR_all_features_chunks.csv\")\n",
        "\n",
        "# Import LabelEncoder from sklearn\n",
        "from sklearn.preprocessing import LabelEncoder\n",
        "\n",
        "# Initialize LabelEncoder\n",
        "label_encoder = LabelEncoder()\n",
        "\n",
        "# Encode the first column of the DataFrame\n",
        "df['voiceID'] = label_encoder.fit_transform(df['voiceID'])\n",
        "\n",
        "# Save the modified DataFrame back to a CSV file\n",
        "df.to_csv(\"labeled.csv\", index=False)\n"
      ],
      "metadata": {
        "id": "CAyMC2bj4fxs"
      },
      "execution_count": 30,
      "outputs": []
    },
    {
      "cell_type": "code",
      "source": [
        "import pandas as pd\n",
        "from sklearn.preprocessing import MinMaxScaler\n",
        "\n",
        "# Load the dataset from a CSV file\n",
        "input_file = 'labeled.csv'  # Replace with the path to your CSV file\n",
        "output_file = 'normalized.csv'  # Replace with the desired output path\n",
        "\n",
        "# Read the CSV file into a Pandas DataFrame\n",
        "data = pd.read_csv(input_file)\n",
        "\n",
        "# Select numeric columns (excluding the first and last columns) for normalization\n",
        "numeric_columns = data.select_dtypes(include=['number']).columns[1:-1]  # Exclude the first and last columns\n",
        "\n",
        "# Create a MinMaxScaler\n",
        "scaler = MinMaxScaler()\n",
        "\n",
        "# Normalize the selected columns\n",
        "data[numeric_columns] = scaler.fit_transform(data[numeric_columns])\n",
        "\n",
        "# Save the normalized data to a new CSV file\n",
        "data.to_csv(output_file, index=False)\n",
        "\n",
        "print(\"Normalization complete. Normalized data saved to\", output_file)\n"
      ],
      "metadata": {
        "colab": {
          "base_uri": "https://localhost:8080/"
        },
        "id": "ev8RdvAd4g71",
        "outputId": "6a0bf7e1-8b25-418f-931f-8d65fc31e05a"
      },
      "execution_count": 31,
      "outputs": [
        {
          "output_type": "stream",
          "name": "stdout",
          "text": [
            "Normalization complete. Normalized data saved to normalized.csv\n"
          ]
        }
      ]
    },
    {
      "cell_type": "code",
      "source": [
        "import pandas as pd\n",
        "import numpy as np\n",
        "from sklearn.model_selection import train_test_split\n",
        "\n",
        "\n",
        "# Load the dataset\n",
        "data = pd.read_csv(\"normalized.csv\")\n",
        "\n",
        "# Split features (X) and labels (y)\n",
        "X = data.iloc[:, 1:-1]  # Exclude the first and last columns\n",
        "y = data['label']\n",
        "\n",
        "# Split the data into training and testing sets\n",
        "X_train, X_test, y_train, y_test = train_test_split(X, y, test_size=0.2, random_state=42)\n",
        "\n"
      ],
      "metadata": {
        "id": "aw1Q0k5j4l7V"
      },
      "execution_count": 32,
      "outputs": []
    },
    {
      "cell_type": "code",
      "source": [
        "from catboost import CatBoostClassifier\n",
        "from sklearn.model_selection import train_test_split\n",
        "from sklearn.metrics import accuracy_score, recall_score, precision_score, f1_score, confusion_matrix\n",
        "import pandas as pd\n",
        "from sklearn.metrics import r2_score\n",
        "\n",
        "# Load the dataset\n",
        "data = pd.read_csv(\"normalized.csv\")\n",
        "\n",
        "# Split features (X) and labels (y)\n",
        "X = data.iloc[:, 1:-1]  # Exclude the first and last columns\n",
        "y = data['label']\n",
        "\n",
        "# Split data into train and test sets\n",
        "X_train, X_test, y_train, y_test = train_test_split(X, y, test_size=0.2, random_state=42)\n",
        "\n",
        "# Define CatBoostClassifier\n",
        "model_voice = CatBoostClassifier(iterations=1000,\n",
        "                           learning_rate=0.1,\n",
        "                           depth=6,\n",
        "                           loss_function='Logloss',\n",
        "                           eval_metric='Accuracy',\n",
        "                           random_seed=42,\n",
        "                           logging_level='Silent')\n",
        "\n",
        "# Train the model\n",
        "model_voice.fit(X_train, y_train, eval_set=(X_test, y_test), early_stopping_rounds=50)\n",
        "\n",
        "# Save the model\n",
        "model_voice.save_model(\"catboost_model\")\n",
        "\n",
        "print(\"Model saved successfully.\")\n",
        "\n",
        "\n",
        "# Make predictions on test set\n",
        "y_pred = model_voice.predict(X_test)\n",
        "\n",
        "voice_prediction = y_pred\n",
        "\n",
        "# Evaluate accuracy\n",
        "accuracy = accuracy_score(y_test, y_pred)\n",
        "print(\"Accuracy:\", accuracy)\n",
        "\n",
        "# Calculate recall\n",
        "recall = recall_score(y_test, y_pred)\n",
        "print(\"Recall:\", recall)\n",
        "\n",
        "# Calculate precision\n",
        "precision = precision_score(y_test, y_pred)\n",
        "print(\"Precision:\", precision)\n",
        "\n",
        "# Calculate F1 score\n",
        "f1 = f1_score(y_test, y_pred)\n",
        "print(\"F1 Score:\", f1)\n",
        "\n",
        "from sklearn.metrics import r2_score\n",
        "\n",
        "# Assuming you have y_true and y_pred variables containing ground truth and predicted values respectively\n",
        "r2 = r2_score(y_test, y_pred)\n",
        "print(\"R2 Score:\", r2)\n",
        "\n",
        "\n",
        "# Calculate confusion matrix\n",
        "conf_matrix = confusion_matrix(y_test, y_pred)\n",
        "print(\"Confusion Matrix:\")\n",
        "print(conf_matrix)\n"
      ],
      "metadata": {
        "colab": {
          "base_uri": "https://localhost:8080/"
        },
        "id": "ER-iO5Vh4qch",
        "outputId": "28ff2367-f53e-43cc-c5a5-79ad7cc1c9cf"
      },
      "execution_count": 33,
      "outputs": [
        {
          "output_type": "stream",
          "name": "stdout",
          "text": [
            "Model saved successfully.\n",
            "Accuracy: 0.9239766081871345\n",
            "Recall: 0.9090909090909091\n",
            "Precision: 0.8955223880597015\n",
            "F1 Score: 0.9022556390977443\n",
            "R2 Score: 0.6792207792207792\n",
            "Confusion Matrix:\n",
            "[[98  7]\n",
            " [ 6 60]]\n"
          ]
        }
      ]
    },
    {
      "cell_type": "markdown",
      "source": [
        "## **FUSED MODEL**"
      ],
      "metadata": {
        "id": "cVsHVq6KL8BK"
      }
    },
    {
      "cell_type": "code",
      "source": [
        "from tensorflow.keras.models import load_model\n",
        "import tensorflow_hub as hub\n",
        "from catboost import CatBoostClassifier\n",
        "# Load the trained models\n",
        "model_spiral = load_model('spiral_model.h5', custom_objects={'KerasLayer': hub.KerasLayer})\n",
        "model_meander = load_model('meander_model.h5', custom_objects={'KerasLayer': hub.KerasLayer})\n",
        "model_voice = CatBoostClassifier().load_model(\"catboost_model\")\n"
      ],
      "metadata": {
        "id": "XxMnETkVL84u"
      },
      "execution_count": 35,
      "outputs": []
    },
    {
      "cell_type": "code",
      "source": [
        "from tensorflow.keras.preprocessing.image import ImageDataGenerator\n",
        "\n",
        "# Define your test directories\n",
        "test_dir_spiral = '/content/drive/MyDrive/Dataset/Spiral/Val'\n",
        "test_dir_meander = '/content/drive/MyDrive/Dataset/Meander/Val'  # replace with your meander test directory\n",
        "\n",
        "# Initialize an ImageDataGenerator for test data\n",
        "test_datagen = ImageDataGenerator(rescale=1.0/255)\n",
        "\n",
        "# Create data generators for test data\n",
        "batch_size = 32\n",
        "image_size = (150, 150)\n",
        "\n",
        "test_generator_spiral = test_datagen.flow_from_directory(\n",
        "    test_dir_spiral,\n",
        "    target_size=image_size,\n",
        "    batch_size=batch_size,\n",
        "    class_mode='binary'\n",
        ")\n",
        "\n",
        "test_generator_meander = test_datagen.flow_from_directory(\n",
        "    test_dir_meander,\n",
        "    target_size=image_size,\n",
        "    batch_size=batch_size,\n",
        "    class_mode='binary'\n",
        ")\n",
        "\n",
        "\n",
        "# Get the actual labels from your test data\n",
        "labels_spiral = test_generator_spiral.classes\n",
        "labels_meander = test_generator_meander.classes\n",
        "\n"
      ],
      "metadata": {
        "colab": {
          "base_uri": "https://localhost:8080/"
        },
        "id": "1dTjWVRXMFPP",
        "outputId": "7bfe3fc9-cb82-4eba-c68a-fd9f92cb7461"
      },
      "execution_count": 36,
      "outputs": [
        {
          "output_type": "stream",
          "name": "stdout",
          "text": [
            "Found 54 images belonging to 2 classes.\n",
            "Found 54 images belonging to 2 classes.\n"
          ]
        }
      ]
    },
    {
      "cell_type": "code",
      "source": [
        "import pandas as pd\n",
        "\n",
        "# Load your dataset\n",
        "df = pd.read_csv('test.csv')  # replace with the path to your csv file\n",
        "\n",
        "# Separate the features and labels\n",
        "features = df.iloc[:, 1:-1]  # all rows, all columns except the first (ID) and the last (label)\n",
        "labels = df.iloc[:, -1]  # all rows, last column (label)\n"
      ],
      "metadata": {
        "id": "52hEO9khO_Vj"
      },
      "execution_count": 38,
      "outputs": []
    },
    {
      "cell_type": "code",
      "source": [
        "# Assume that you have three trained models: image_model1, image_model2, and voice_model\n",
        "# And you have three test datasets: test_data1, test_data2, and test_data_voice\n",
        "\n",
        "# Get the predictions from all models\n",
        "# Now you can get the predictions from both models\n",
        "preds_spiral = model_spiral.predict(test_generator_spiral)\n",
        "preds_meander = model_meander.predict(test_generator_meander)\n",
        "# Get the predictions from the model\n",
        "preds_voice = model_voice.predict(features)\n",
        "\n",
        "print(preds_spiral)\n",
        "print(preds_meander)\n",
        "print(preds_voice)\n",
        "\n"
      ],
      "metadata": {
        "colab": {
          "base_uri": "https://localhost:8080/"
        },
        "id": "DBcmbT609IgA",
        "outputId": "083febf8-71fd-433f-912c-be314e7a4371"
      },
      "execution_count": 39,
      "outputs": [
        {
          "output_type": "stream",
          "name": "stdout",
          "text": [
            "2/2 [==============================] - 8s 5s/step\n",
            "2/2 [==============================] - 8s 5s/step\n",
            "[[0.34727523]\n",
            " [0.34727523]\n",
            " [0.34727708]\n",
            " [0.7930116 ]\n",
            " [0.3475517 ]\n",
            " [0.79325897]\n",
            " [0.7933623 ]\n",
            " [0.34728268]\n",
            " [0.7934183 ]\n",
            " [0.79344004]\n",
            " [0.34731352]\n",
            " [0.7933796 ]\n",
            " [0.7933142 ]\n",
            " [0.7932185 ]\n",
            " [0.7933214 ]\n",
            " [0.3472758 ]\n",
            " [0.34736085]\n",
            " [0.4813201 ]\n",
            " [0.7929347 ]\n",
            " [0.34727523]\n",
            " [0.34727532]\n",
            " [0.36847383]\n",
            " [0.78506726]\n",
            " [0.34729657]\n",
            " [0.34727523]\n",
            " [0.352749  ]\n",
            " [0.7933525 ]\n",
            " [0.34727687]\n",
            " [0.34727523]\n",
            " [0.36451706]\n",
            " [0.3472753 ]\n",
            " [0.55818796]\n",
            " [0.34727523]\n",
            " [0.792312  ]\n",
            " [0.34727797]\n",
            " [0.34727612]\n",
            " [0.79159003]\n",
            " [0.34728146]\n",
            " [0.34727523]\n",
            " [0.34727535]\n",
            " [0.4036928 ]\n",
            " [0.78560233]\n",
            " [0.34727523]\n",
            " [0.34727523]\n",
            " [0.34728092]\n",
            " [0.34727523]\n",
            " [0.7934001 ]\n",
            " [0.46101922]\n",
            " [0.3472752 ]\n",
            " [0.793409  ]\n",
            " [0.78971887]\n",
            " [0.6840871 ]\n",
            " [0.34727544]\n",
            " [0.34727615]]\n",
            "[[0.7963106 ]\n",
            " [0.7965232 ]\n",
            " [0.79652005]\n",
            " [0.79650676]\n",
            " [0.79245037]\n",
            " [0.38732442]\n",
            " [0.38440087]\n",
            " [0.38426316]\n",
            " [0.38424832]\n",
            " [0.7941699 ]\n",
            " [0.7601424 ]\n",
            " [0.7964322 ]\n",
            " [0.4338049 ]\n",
            " [0.79643625]\n",
            " [0.7964401 ]\n",
            " [0.79649115]\n",
            " [0.7955068 ]\n",
            " [0.7965203 ]\n",
            " [0.79521406]\n",
            " [0.38426858]\n",
            " [0.7965044 ]\n",
            " [0.38424602]\n",
            " [0.79651606]\n",
            " [0.3848217 ]\n",
            " [0.79650295]\n",
            " [0.79651433]\n",
            " [0.38771904]\n",
            " [0.7548774 ]\n",
            " [0.38698062]\n",
            " [0.7964558 ]\n",
            " [0.7965231 ]\n",
            " [0.79646736]\n",
            " [0.79650754]\n",
            " [0.7965214 ]\n",
            " [0.38425496]\n",
            " [0.7965129 ]\n",
            " [0.79651296]\n",
            " [0.79584634]\n",
            " [0.38426998]\n",
            " [0.6781019 ]\n",
            " [0.38440102]\n",
            " [0.7588387 ]\n",
            " [0.43133667]\n",
            " [0.7965215 ]\n",
            " [0.3846667 ]\n",
            " [0.45467606]\n",
            " [0.79473096]\n",
            " [0.39284617]\n",
            " [0.7964919 ]\n",
            " [0.38463923]\n",
            " [0.38433006]\n",
            " [0.79643434]\n",
            " [0.7961747 ]\n",
            " [0.70840096]]\n",
            "[0 0 0 0 0 0 0 0 0 0 0 0 0 0 0 0 0 0 0 0 0 0 0 0 0 0 0 1 1 1 1 1 1 1 1 1 1\n",
            " 1 1 1 1 1 1 1 1 1 1 1 1 1 1 1 1 1]\n"
          ]
        }
      ]
    },
    {
      "cell_type": "code",
      "source": [
        "# Round the predictions to the nearest integer\n",
        "preds_image1_rounded = np.round(preds_spiral)\n",
        "preds_image2_rounded = np.round(preds_meander)\n",
        "# Round the predictions to the nearest integer\n",
        "preds_voice_rounded = np.round(preds_voice)\n",
        "\n"
      ],
      "metadata": {
        "id": "e8L2MoG7AnSI"
      },
      "execution_count": 40,
      "outputs": []
    },
    {
      "cell_type": "code",
      "source": [
        "# Stack the rounded predictions\n",
        "stacked_preds_rounded = np.column_stack((preds_image1_rounded, preds_image2_rounded, preds_voice_rounded))\n"
      ],
      "metadata": {
        "id": "_96Ko867AiyH"
      },
      "execution_count": 41,
      "outputs": []
    },
    {
      "cell_type": "code",
      "source": [
        "from scipy import stats\n"
      ],
      "metadata": {
        "id": "veQtWnADgAcV"
      },
      "execution_count": 43,
      "outputs": []
    },
    {
      "cell_type": "code",
      "source": [
        "# Use the mode of the rounded predictions as the final prediction\n",
        "final_preds, _ = stats.mode(stacked_preds_rounded, axis=1)\n",
        "final_preds = final_preds.ravel()  # flatten the array\n"
      ],
      "metadata": {
        "id": "XbJcJJSOAprT"
      },
      "execution_count": 53,
      "outputs": []
    },
    {
      "cell_type": "code",
      "source": [
        "from sklearn.metrics import accuracy_score\n",
        "\n",
        "# Get the actual labels from your test data\n",
        "labels_spiral = test_generator_spiral.classes\n",
        "labels_meander = test_generator_meander.classes\n",
        "final_test = labels\n",
        "# Calculate the accuracy of the fused model\n",
        "accuracy = accuracy_score(final_test, final_preds)\n",
        "\n",
        "print(f\"Accuracy of the fused model: {accuracy * 100:.2f}%\")"
      ],
      "metadata": {
        "colab": {
          "base_uri": "https://localhost:8080/"
        },
        "id": "eSls-l4ZPers",
        "outputId": "efd70875-161c-4b91-884d-db140493351a"
      },
      "execution_count": 61,
      "outputs": [
        {
          "output_type": "stream",
          "name": "stdout",
          "text": [
            "Accuracy of the fused model: 93.22%\n"
          ]
        }
      ]
    }
  ]
}